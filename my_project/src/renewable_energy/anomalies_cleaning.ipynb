{
 "cells": [
  {
   "cell_type": "markdown",
   "metadata": {
    "application/vnd.databricks.v1+cell": {
     "cellMetadata": {},
     "inputWidgets": {},
     "nuid": "ee353e42-ff58-4955-9608-12865bd0950e",
     "showTitle": false,
     "title": ""
    }
   },
   "source": [
    "# Z-Score to identify and remove outliers\n",
    "\n",
    "## ● Identifies anomalies: Identify any turbines that have significantly deviated from their expected power output over the same time period. Anomalies can be defined as turbines whose output is outside of 2 standard deviations from the mean."
   ]
  },
  {
   "cell_type": "code",
   "execution_count": 5,
   "metadata": {},
   "outputs": [
    {
     "name": "stdout",
     "output_type": "stream",
     "text": [
      "The autoreload extension is already loaded. To reload it, use:\n",
      "  %reload_ext autoreload\n"
     ]
    }
   ],
   "source": [
    "%load_ext autoreload\n",
    "%autoreload 2"
   ]
  },
  {
   "cell_type": "code",
   "execution_count": null,
   "metadata": {
    "application/vnd.databricks.v1+cell": {
     "cellMetadata": {
      "byteLimit": 2048000,
      "rowLimit": 10000
     },
     "inputWidgets": {},
     "nuid": "6bca260b-13d1-448f-8082-30b60a85c9ae",
     "showTitle": false,
     "title": ""
    }
   },
   "outputs": [
    {
     "ename": "NameError",
     "evalue": "name 'spark' is not defined",
     "output_type": "error",
     "traceback": [
      "\u001b[31m---------------------------------------------------------------------------\u001b[39m",
      "\u001b[31mNameError\u001b[39m                                 Traceback (most recent call last)",
      "\u001b[36mCell\u001b[39m\u001b[36m \u001b[39m\u001b[32mIn[6]\u001b[39m\u001b[32m, line 3\u001b[39m\n\u001b[32m      1\u001b[39m \u001b[38;5;28;01mfrom\u001b[39;00m\u001b[38;5;250m \u001b[39m\u001b[34;01mget_data\u001b[39;00m\u001b[38;5;250m \u001b[39m\u001b[38;5;28;01mimport\u001b[39;00m main\n\u001b[32m----> \u001b[39m\u001b[32m3\u001b[39m main.enrich_data(\u001b[43mspark\u001b[49m).show(\u001b[32m10\u001b[39m)\n",
      "\u001b[31mNameError\u001b[39m: name 'spark' is not defined"
     ]
    }
   ],
   "source": [
    "from get_data import main\n",
    "from pyspark.sql import DataFrame\n",
    "from pyspark.sql.functions import col, mean, stddev, min, max, avg\n",
    "import pyspark.sql.functions as F\n",
    "\n",
    "df = main.enrich_data(spark)\n",
    "\n",
    "def get_anomalies(data: DataFrame) -> DataFrame:\n",
    "    # https://medium.com/@datasciencejourney100_83560/z-score-to-identify-and-remove-outliers-c17382a4a739\n",
    "    data = data.groupBy(\"event_date\", \"turbine_id\").agg(\n",
    "        avg(\"power_output\").alias(\"avg_power_output\")\n",
    "    )\n",
    "    \n",
    "    overall_avg = data.agg(mean(\"avg_power_output\")).collect()[0][0]\n",
    "    overall_stddev = data.agg(stddev(\"avg_power_output\")).collect()[0][0]\n",
    "    \n",
    "    anomalies = data.withColumn(\n",
    "        \"anomalies_ind\",\n",
    "        F.when(\n",
    "            (col(\"avg_power_output\") < overall_avg - 2 * overall_stddev) | \n",
    "            (col(\"avg_power_output\") > overall_avg + 2 * overall_stddev),\n",
    "            \"Y\"\n",
    "        ).otherwise(\"N\")\n",
    "    )\n",
    "    \n",
    "    return anomalies.filter(col(\"anomalies_ind\")== \"Y\")\n",
    "\n",
    "df = get_anomalies(df)\n",
    "df.write.mode(\"overwrite\").saveAsTable(\"cleaned_data\")\n",
    "display(df)"
   ]
  }
 ],
 "metadata": {
  "application/vnd.databricks.v1+notebook": {
   "dashboards": [],
   "language": "python",
   "notebookMetadata": {
    "pythonIndentUnit": 2
   },
   "notebookName": "notebook",
   "widgets": {}
  },
  "kernelspec": {
   "display_name": ".venv",
   "language": "python",
   "name": "python3"
  },
  "language_info": {
   "codemirror_mode": {
    "name": "ipython",
    "version": 3
   },
   "file_extension": ".py",
   "mimetype": "text/x-python",
   "name": "python",
   "nbconvert_exporter": "python",
   "pygments_lexer": "ipython3",
   "version": "3.13.3"
  }
 },
 "nbformat": 4,
 "nbformat_minor": 0
}
